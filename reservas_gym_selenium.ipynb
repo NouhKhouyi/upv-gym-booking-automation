{
 "cells": [
  {
   "cell_type": "code",
   "execution_count": 30,
   "metadata": {},
   "outputs": [],
   "source": [
    "from selenium import webdriver\n",
    "from selenium.webdriver.common.by import By\n",
    "from selenium.webdriver.chrome.service import Service\n",
    "from selenium.webdriver.chrome.options import Options\n",
    "from selenium.webdriver.support.ui import WebDriverWait\n",
    "from selenium.webdriver.support import expected_conditions as EC\n",
    "from selenium.common.exceptions import TimeoutException\n",
    "from selenium.webdriver.common.keys import Keys\n",
    "from bs4 import BeautifulSoup\n",
    "import requests\n",
    "import time\n",
    "\n",
    "binary_path = r\"C:\\Program Files\\Google\\Chrome\\Application\\chrome.exe\"\n",
    "\n",
    "driver_path = r\"C:\\Users\\Nouh\\Desktop\\Scrapping\\chromedriver.exe\"\n",
    "\n",
    "options = Options()\n",
    "options.binary_location = binary_path\n",
    "\n",
    "service = Service(driver_path)\n",
    "\n",
    "driver = webdriver.Chrome(service=service, options=options)\n",
    "\n",
    "driver.get('https://www.upv.es')\n"
   ]
  },
  {
   "cell_type": "code",
   "execution_count": 31,
   "metadata": {},
   "outputs": [],
   "source": [
    "with open('dni.txt','r') as dni_raw:\n",
    "    dni = dni_raw.read()\n",
    "\n",
    "with open('contra.txt','r') as contra_raw:\n",
    "    contra = contra_raw.read()"
   ]
  },
  {
   "cell_type": "code",
   "execution_count": 32,
   "metadata": {},
   "outputs": [],
   "source": [
    "driver.get('https://intranet.upv.es/pls/soalu/est_intranet.NI_Portal_n?p_idioma=c')\n",
    "time.sleep(1)\n",
    "escribir_dni = driver.find_element(By.NAME, 'dni')\n",
    "escribir_dni.send_keys(dni)\n",
    "escribir_contra = driver.find_element(By.NAME, 'clau')\n",
    "escribir_contra.send_keys(contra)\n",
    "escribir_contra.send_keys(Keys.ENTER)\n",
    "time.sleep(5)"
   ]
  },
  {
   "cell_type": "code",
   "execution_count": 33,
   "metadata": {},
   "outputs": [],
   "source": [
    "driver.get('https://intranet.upv.es/pls/soalu/sic_depact.HSemActividades?p_campus=V&p_tipoact=6799&p_codacti=21549&p_vista=intranet&p_idioma=c&p_solo_matricula_sn=&p_anc=filtro_actividad')\n"
   ]
  },
  {
   "cell_type": "code",
   "execution_count": 34,
   "metadata": {},
   "outputs": [
    {
     "name": "stdout",
     "output_type": "stream",
     "text": [
      "**************************************************\n",
      "MUS009 Solo Socios 12 libres: sic_depact.HSemActMatri?p_campus=V&p_codacti=21549&p_codgrupo_mat=47E92FB3D63E25&p_vista=intranet&p_tipoact=6799&p_idioma=c\n",
      "**************************************************\n",
      "**************************************************\n",
      "MUS024 Solo Socios 11 libres: sic_depact.HSemActMatri?p_campus=V&p_codacti=21549&p_codgrupo_mat=47E92FB3D63E34&p_vista=intranet&p_tipoact=6799&p_idioma=c\n",
      "**************************************************\n",
      "**************************************************\n",
      "MUS054 Solo Socios 8 libres: sic_depact.HSemActMatri?p_campus=V&p_codacti=21549&p_codgrupo_mat=47E92FB3D63E52&p_vista=intranet&p_tipoact=6799&p_idioma=c\n",
      "**************************************************\n",
      "**************************************************\n",
      "MUS010 Solo Socios 11 libres: sic_depact.HSemActMatri?p_campus=V&p_codacti=21549&p_codgrupo_mat=47E92FB3D63E26&p_vista=intranet&p_tipoact=6799&p_idioma=c\n",
      "**************************************************\n",
      "**************************************************\n",
      "MUS025 Solo Socios 4 libres: sic_depact.HSemActMatri?p_campus=V&p_codacti=21549&p_codgrupo_mat=47E92FB3D63E35&p_vista=intranet&p_tipoact=6799&p_idioma=c\n",
      "**************************************************\n",
      "**************************************************\n",
      "MUS055 Solo Socios 4 libres: sic_depact.HSemActMatri?p_campus=V&p_codacti=21549&p_codgrupo_mat=47E92FB3D63E53&p_vista=intranet&p_tipoact=6799&p_idioma=c\n",
      "**************************************************\n"
     ]
    }
   ],
   "source": [
    "request = driver.page_source\n",
    "soup = BeautifulSoup(request,'html.parser')\n",
    "enlaces = soup.find_all('a', class_='upv_enlacelista')\n",
    "\n",
    "urls_finales = []\n",
    "horas_interesantes = ['009','024','039','054','069','010','025','040','055','070']\n",
    "contador = 0\n",
    "\"\"\"\n",
    "for enlace in enlaces:\n",
    "    url = enlace.get('href')\n",
    "    texto = enlace.get_text(separator=\" \").strip()\n",
    "    print(f'{texto}: {url} ')\n",
    "\"\"\"\n",
    "\n",
    "for enlace in enlaces:\n",
    "    url = enlace.get('href')\n",
    "    texto = enlace.get_text(separator=\" \").strip()\n",
    "    for sesion in horas_interesantes:\n",
    "        string = 'MUS' + sesion\n",
    "        if string in texto:\n",
    "            urls_finales.append(url)\n",
    "            print(f'{marcador_visual}\\n{texto}: {url}\\n{marcador_visual}')\n",
    "            break\n",
    "    #print(f'{texto}: {url}')\n",
    "    marcador_visual = '*' *50\n"
   ]
  },
  {
   "cell_type": "code",
   "execution_count": 35,
   "metadata": {},
   "outputs": [
    {
     "name": "stdout",
     "output_type": "stream",
     "text": [
      "https://intranet.upv.es/pls/soalu/sic_depact.HSemActDesMat?p_campus=V&p_codacti=21549&p_codgrupo_desmat=47E92FB3D63E43&p_vista=intranet&p_tipoact=6799&p_idioma=c\n",
      "https://intranet.upv.es/pls/soalu/sic_depact.HSemActividades?p_campus=V&p_tipoact=6799&p_codacti=21549&p_vista=intranet&p_idioma=c&p_solo_matricula_sn=&p_anc=filtro_actividad#\n",
      "https://intranet.upv.es/pls/soalu/sic_depact.HSemActDesMat?p_campus=V&p_codacti=21549&p_codgrupo_desmat=47E92FB3D63E44&p_vista=intranet&p_tipoact=6799&p_idioma=c\n",
      "https://intranet.upv.es/pls/soalu/sic_depact.HSemActividades?p_campus=V&p_tipoact=6799&p_codacti=21549&p_vista=intranet&p_idioma=c&p_solo_matricula_sn=&p_anc=filtro_actividad#\n",
      "https://intranet.upv.es/pls/soalu/sic_depact.HSemActMatri?p_campus=V&p_codacti=21549&p_codgrupo_mat=47E92FB3D63E1D&p_vista=intranet&p_tipoact=6799&p_idioma=c\n",
      "https://intranet.upv.es/pls/soalu/sic_depact.HSemActMatri?p_campus=V&p_codacti=21549&p_codgrupo_mat=47E92FB3D63E2C&p_vista=intranet&p_tipoact=6799&p_idioma=c\n",
      "https://intranet.upv.es/pls/soalu/sic_depact.HSemActMatri?p_campus=V&p_codacti=21549&p_codgrupo_mat=47E92FB3D63E3B&p_vista=intranet&p_tipoact=6799&p_idioma=c\n",
      "https://intranet.upv.es/pls/soalu/sic_depact.HSemActMatri?p_campus=V&p_codacti=21549&p_codgrupo_mat=47E92FB3D63E4A&p_vista=intranet&p_tipoact=6799&p_idioma=c\n",
      "https://intranet.upv.es/pls/soalu/sic_depact.HSemActMatri?p_campus=V&p_codacti=21549&p_codgrupo_mat=47E92FB3D63E1E&p_vista=intranet&p_tipoact=6799&p_idioma=c\n",
      "https://intranet.upv.es/pls/soalu/sic_depact.HSemActMatri?p_campus=V&p_codacti=21549&p_codgrupo_mat=47E92FB3D63E2D&p_vista=intranet&p_tipoact=6799&p_idioma=c\n",
      "https://intranet.upv.es/pls/soalu/sic_depact.HSemActMatri?p_campus=V&p_codacti=21549&p_codgrupo_mat=47E92FB3D63E3C&p_vista=intranet&p_tipoact=6799&p_idioma=c\n",
      "https://intranet.upv.es/pls/soalu/sic_depact.HSemActMatri?p_campus=V&p_codacti=21549&p_codgrupo_mat=47E92FB3D63E4B&p_vista=intranet&p_tipoact=6799&p_idioma=c\n",
      "https://intranet.upv.es/pls/soalu/sic_depact.HSemActMatri?p_campus=V&p_codacti=21549&p_codgrupo_mat=47E92FB3D63E1F&p_vista=intranet&p_tipoact=6799&p_idioma=c\n",
      "https://intranet.upv.es/pls/soalu/sic_depact.HSemActMatri?p_campus=V&p_codacti=21549&p_codgrupo_mat=47E92FB3D63E2E&p_vista=intranet&p_tipoact=6799&p_idioma=c\n",
      "https://intranet.upv.es/pls/soalu/sic_depact.HSemActMatri?p_campus=V&p_codacti=21549&p_codgrupo_mat=47E92FB3D63E3D&p_vista=intranet&p_tipoact=6799&p_idioma=c\n",
      "https://intranet.upv.es/pls/soalu/sic_depact.HSemActMatri?p_campus=V&p_codacti=21549&p_codgrupo_mat=47E92FB3D63E4C&p_vista=intranet&p_tipoact=6799&p_idioma=c\n",
      "https://intranet.upv.es/pls/soalu/sic_depact.HSemActMatri?p_campus=V&p_codacti=21549&p_codgrupo_mat=47E92FB3D63E20&p_vista=intranet&p_tipoact=6799&p_idioma=c\n",
      "https://intranet.upv.es/pls/soalu/sic_depact.HSemActMatri?p_campus=V&p_codacti=21549&p_codgrupo_mat=47E92FB3D63E2F&p_vista=intranet&p_tipoact=6799&p_idioma=c\n",
      "https://intranet.upv.es/pls/soalu/sic_depact.HSemActMatri?p_campus=V&p_codacti=21549&p_codgrupo_mat=47E92FB3D63E3E&p_vista=intranet&p_tipoact=6799&p_idioma=c\n",
      "https://intranet.upv.es/pls/soalu/sic_depact.HSemActMatri?p_campus=V&p_codacti=21549&p_codgrupo_mat=47E92FB3D63E4D&p_vista=intranet&p_tipoact=6799&p_idioma=c\n",
      "https://intranet.upv.es/pls/soalu/sic_depact.HSemActMatri?p_campus=V&p_codacti=21549&p_codgrupo_mat=47E92FB3D63E5C&p_vista=intranet&p_tipoact=6799&p_idioma=c\n",
      "https://intranet.upv.es/pls/soalu/sic_depact.HSemActMatri?p_campus=V&p_codacti=21549&p_codgrupo_mat=47E92FB3D63E21&p_vista=intranet&p_tipoact=6799&p_idioma=c\n",
      "https://intranet.upv.es/pls/soalu/sic_depact.HSemActMatri?p_campus=V&p_codacti=21549&p_codgrupo_mat=47E92FB3D63E30&p_vista=intranet&p_tipoact=6799&p_idioma=c\n",
      "https://intranet.upv.es/pls/soalu/sic_depact.HSemActMatri?p_campus=V&p_codacti=21549&p_codgrupo_mat=47E92FB3D63E3F&p_vista=intranet&p_tipoact=6799&p_idioma=c\n",
      "https://intranet.upv.es/pls/soalu/sic_depact.HSemActMatri?p_campus=V&p_codacti=21549&p_codgrupo_mat=47E92FB3D63E4E&p_vista=intranet&p_tipoact=6799&p_idioma=c\n",
      "https://intranet.upv.es/pls/soalu/sic_depact.HSemActMatri?p_campus=V&p_codacti=21549&p_codgrupo_mat=47E92FB3D63E22&p_vista=intranet&p_tipoact=6799&p_idioma=c\n",
      "https://intranet.upv.es/pls/soalu/sic_depact.HSemActMatri?p_campus=V&p_codacti=21549&p_codgrupo_mat=47E92FB3D63E31&p_vista=intranet&p_tipoact=6799&p_idioma=c\n",
      "https://intranet.upv.es/pls/soalu/sic_depact.HSemActMatri?p_campus=V&p_codacti=21549&p_codgrupo_mat=47E92FB3D63E40&p_vista=intranet&p_tipoact=6799&p_idioma=c\n",
      "https://intranet.upv.es/pls/soalu/sic_depact.HSemActMatri?p_campus=V&p_codacti=21549&p_codgrupo_mat=47E92FB3D63E4F&p_vista=intranet&p_tipoact=6799&p_idioma=c\n",
      "https://intranet.upv.es/pls/soalu/sic_depact.HSemActMatri?p_campus=V&p_codacti=21549&p_codgrupo_mat=47E92FB3D63E5E&p_vista=intranet&p_tipoact=6799&p_idioma=c\n",
      "https://intranet.upv.es/pls/soalu/sic_depact.HSemActMatri?p_campus=V&p_codacti=21549&p_codgrupo_mat=47E92FB3D63E23&p_vista=intranet&p_tipoact=6799&p_idioma=c\n",
      "https://intranet.upv.es/pls/soalu/sic_depact.HSemActMatri?p_campus=V&p_codacti=21549&p_codgrupo_mat=47E92FB3D63E32&p_vista=intranet&p_tipoact=6799&p_idioma=c\n",
      "https://intranet.upv.es/pls/soalu/sic_depact.HSemActMatri?p_campus=V&p_codacti=21549&p_codgrupo_mat=47E92FB3D63E41&p_vista=intranet&p_tipoact=6799&p_idioma=c\n",
      "https://intranet.upv.es/pls/soalu/sic_depact.HSemActMatri?p_campus=V&p_codacti=21549&p_codgrupo_mat=47E92FB3D63E50&p_vista=intranet&p_tipoact=6799&p_idioma=c\n",
      "https://intranet.upv.es/pls/soalu/sic_depact.HSemActMatri?p_campus=V&p_codacti=21549&p_codgrupo_mat=47E92FB3D63E5F&p_vista=intranet&p_tipoact=6799&p_idioma=c\n",
      "https://intranet.upv.es/pls/soalu/sic_depact.HSemActMatri?p_campus=V&p_codacti=21549&p_codgrupo_mat=47E92FB3D63E24&p_vista=intranet&p_tipoact=6799&p_idioma=c\n",
      "https://intranet.upv.es/pls/soalu/sic_depact.HSemActMatri?p_campus=V&p_codacti=21549&p_codgrupo_mat=47E92FB3D63E33&p_vista=intranet&p_tipoact=6799&p_idioma=c\n",
      "https://intranet.upv.es/pls/soalu/sic_depact.HSemActMatri?p_campus=V&p_codacti=21549&p_codgrupo_mat=47E92FB3D63E42&p_vista=intranet&p_tipoact=6799&p_idioma=c\n",
      "https://intranet.upv.es/pls/soalu/sic_depact.HSemActMatri?p_campus=V&p_codacti=21549&p_codgrupo_mat=47E92FB3D63E51&p_vista=intranet&p_tipoact=6799&p_idioma=c\n",
      "https://intranet.upv.es/pls/soalu/sic_depact.HSemActMatri?p_campus=V&p_codacti=21549&p_codgrupo_mat=47E92FB3D63E60&p_vista=intranet&p_tipoact=6799&p_idioma=c\n",
      "https://intranet.upv.es/pls/soalu/sic_depact.HSemActMatri?p_campus=V&p_codacti=21549&p_codgrupo_mat=47E92FB3D63E25&p_vista=intranet&p_tipoact=6799&p_idioma=c\n",
      "https://intranet.upv.es/pls/soalu/sic_depact.HSemActMatri?p_campus=V&p_codacti=21549&p_codgrupo_mat=47E92FB3D63E34&p_vista=intranet&p_tipoact=6799&p_idioma=c\n",
      "https://intranet.upv.es/pls/soalu/sic_depact.HSemActMatri?p_campus=V&p_codacti=21549&p_codgrupo_mat=47E92FB3D63E52&p_vista=intranet&p_tipoact=6799&p_idioma=c\n",
      "https://intranet.upv.es/pls/soalu/sic_depact.HSemActMatri?p_campus=V&p_codacti=21549&p_codgrupo_mat=47E92FB3D63E26&p_vista=intranet&p_tipoact=6799&p_idioma=c\n",
      "https://intranet.upv.es/pls/soalu/sic_depact.HSemActMatri?p_campus=V&p_codacti=21549&p_codgrupo_mat=47E92FB3D63E35&p_vista=intranet&p_tipoact=6799&p_idioma=c\n",
      "https://intranet.upv.es/pls/soalu/sic_depact.HSemActMatri?p_campus=V&p_codacti=21549&p_codgrupo_mat=47E92FB3D63E53&p_vista=intranet&p_tipoact=6799&p_idioma=c\n",
      "https://intranet.upv.es/pls/soalu/sic_depact.HSemActMatri?p_campus=V&p_codacti=21549&p_codgrupo_mat=47E92FB3D63E27&p_vista=intranet&p_tipoact=6799&p_idioma=c\n",
      "https://intranet.upv.es/pls/soalu/sic_depact.HSemActMatri?p_campus=V&p_codacti=21549&p_codgrupo_mat=47E92FB3D63E36&p_vista=intranet&p_tipoact=6799&p_idioma=c\n",
      "https://intranet.upv.es/pls/soalu/sic_depact.HSemActMatri?p_campus=V&p_codacti=21549&p_codgrupo_mat=47E92FB3D63E45&p_vista=intranet&p_tipoact=6799&p_idioma=c\n",
      "https://intranet.upv.es/pls/soalu/sic_depact.HSemActMatri?p_campus=V&p_codacti=21549&p_codgrupo_mat=47E92FB3D63E54&p_vista=intranet&p_tipoact=6799&p_idioma=c\n",
      "https://intranet.upv.es/pls/soalu/sic_depact.HSemActMatri?p_campus=V&p_codacti=21549&p_codgrupo_mat=47E92FB3D63E28&p_vista=intranet&p_tipoact=6799&p_idioma=c\n",
      "https://intranet.upv.es/pls/soalu/sic_depact.HSemActMatri?p_campus=V&p_codacti=21549&p_codgrupo_mat=47E92FB3D63E37&p_vista=intranet&p_tipoact=6799&p_idioma=c\n",
      "https://intranet.upv.es/pls/soalu/sic_depact.HSemActMatri?p_campus=V&p_codacti=21549&p_codgrupo_mat=47E92FB3D63E46&p_vista=intranet&p_tipoact=6799&p_idioma=c\n",
      "https://intranet.upv.es/pls/soalu/sic_depact.HSemActMatri?p_campus=V&p_codacti=21549&p_codgrupo_mat=47E92FB3D63E55&p_vista=intranet&p_tipoact=6799&p_idioma=c\n",
      "https://intranet.upv.es/pls/soalu/sic_depact.HSemActMatri?p_campus=V&p_codacti=21549&p_codgrupo_mat=47E92FB3D63E29&p_vista=intranet&p_tipoact=6799&p_idioma=c\n",
      "https://intranet.upv.es/pls/soalu/sic_depact.HSemActMatri?p_campus=V&p_codacti=21549&p_codgrupo_mat=47E92FB3D63E38&p_vista=intranet&p_tipoact=6799&p_idioma=c\n",
      "https://intranet.upv.es/pls/soalu/sic_depact.HSemActMatri?p_campus=V&p_codacti=21549&p_codgrupo_mat=47E92FB3D63E47&p_vista=intranet&p_tipoact=6799&p_idioma=c\n",
      "https://intranet.upv.es/pls/soalu/sic_depact.HSemActMatri?p_campus=V&p_codacti=21549&p_codgrupo_mat=47E92FB3D63E56&p_vista=intranet&p_tipoact=6799&p_idioma=c\n",
      "https://intranet.upv.es/pls/soalu/sic_depact.HSemActMatri?p_campus=V&p_codacti=21549&p_codgrupo_mat=47E92FB3D63E2A&p_vista=intranet&p_tipoact=6799&p_idioma=c\n",
      "https://intranet.upv.es/pls/soalu/sic_depact.HSemActMatri?p_campus=V&p_codacti=21549&p_codgrupo_mat=47E92FB3D63E39&p_vista=intranet&p_tipoact=6799&p_idioma=c\n",
      "https://intranet.upv.es/pls/soalu/sic_depact.HSemActMatri?p_campus=V&p_codacti=21549&p_codgrupo_mat=47E92FB3D63E48&p_vista=intranet&p_tipoact=6799&p_idioma=c\n",
      "https://intranet.upv.es/pls/soalu/sic_depact.HSemActMatri?p_campus=V&p_codacti=21549&p_codgrupo_mat=47E92FB3D63E57&p_vista=intranet&p_tipoact=6799&p_idioma=c\n",
      "https://intranet.upv.es/pls/soalu/sic_depact.HSemActMatri?p_campus=V&p_codacti=21549&p_codgrupo_mat=47E92FB3D63E66&p_vista=intranet&p_tipoact=6799&p_idioma=c\n",
      "https://intranet.upv.es/pls/soalu/sic_depact.HSemActMatri?p_campus=V&p_codacti=21549&p_codgrupo_mat=47E92FB3D63E2B&p_vista=intranet&p_tipoact=6799&p_idioma=c\n",
      "https://intranet.upv.es/pls/soalu/sic_depact.HSemActMatri?p_campus=V&p_codacti=21549&p_codgrupo_mat=47E92FB3D63E3A&p_vista=intranet&p_tipoact=6799&p_idioma=c\n",
      "https://intranet.upv.es/pls/soalu/sic_depact.HSemActMatri?p_campus=V&p_codacti=21549&p_codgrupo_mat=47E92FB3D63E49&p_vista=intranet&p_tipoact=6799&p_idioma=c\n",
      "https://intranet.upv.es/pls/soalu/sic_depact.HSemActMatri?p_campus=V&p_codacti=21549&p_codgrupo_mat=47E92FB3D63E58&p_vista=intranet&p_tipoact=6799&p_idioma=c\n",
      "https://intranet.upv.es/pls/soalu/sic_depact.HSemActMatri?p_campus=V&p_codacti=21549&p_codgrupo_mat=47E92FB3D63E67&p_vista=intranet&p_tipoact=6799&p_idioma=c\n"
     ]
    }
   ],
   "source": [
    "botones_reserva = driver.find_elements(By.CLASS_NAME, 'upv_enlacelista')\n",
    "for boton in botones_reserva:\n",
    "    print(boton.get_attribute('href'))"
   ]
  },
  {
   "cell_type": "code",
   "execution_count": 36,
   "metadata": {},
   "outputs": [
    {
     "name": "stdout",
     "output_type": "stream",
     "text": [
      "**************************************************\n",
      "MUS009: https://intranet.upv.es/pls/soalu/sic_depact.HSemActMatri?p_campus=V&p_codacti=21549&p_codgrupo_mat=47E92FB3D63E25&p_vista=intranet&p_tipoact=6799&p_idioma=c\n",
      "**************************************************\n",
      "**************************************************\n",
      "MUS024: https://intranet.upv.es/pls/soalu/sic_depact.HSemActMatri?p_campus=V&p_codacti=21549&p_codgrupo_mat=47E92FB3D63E34&p_vista=intranet&p_tipoact=6799&p_idioma=c\n",
      "**************************************************\n",
      "**************************************************\n",
      "MUS054: https://intranet.upv.es/pls/soalu/sic_depact.HSemActMatri?p_campus=V&p_codacti=21549&p_codgrupo_mat=47E92FB3D63E52&p_vista=intranet&p_tipoact=6799&p_idioma=c\n",
      "**************************************************\n",
      "**************************************************\n",
      "MUS010: https://intranet.upv.es/pls/soalu/sic_depact.HSemActMatri?p_campus=V&p_codacti=21549&p_codgrupo_mat=47E92FB3D63E26&p_vista=intranet&p_tipoact=6799&p_idioma=c\n",
      "**************************************************\n",
      "**************************************************\n",
      "MUS025: https://intranet.upv.es/pls/soalu/sic_depact.HSemActMatri?p_campus=V&p_codacti=21549&p_codgrupo_mat=47E92FB3D63E35&p_vista=intranet&p_tipoact=6799&p_idioma=c\n",
      "**************************************************\n",
      "**************************************************\n",
      "MUS055: https://intranet.upv.es/pls/soalu/sic_depact.HSemActMatri?p_campus=V&p_codacti=21549&p_codgrupo_mat=47E92FB3D63E53&p_vista=intranet&p_tipoact=6799&p_idioma=c\n",
      "**************************************************\n"
     ]
    }
   ],
   "source": [
    "botones_reserva = driver.find_elements(By.CLASS_NAME, 'upv_enlacelista')\n",
    "urls_reserva = []\n",
    "for boton in botones_reserva:\n",
    "    url = boton.get_attribute('href')\n",
    "    texto_enlace = boton.text.strip()\n",
    "    texto_enlace = texto_enlace[:6]\n",
    "    for sesion in horas_interesantes:\n",
    "        string = 'MUS' + sesion\n",
    "        if string in texto_enlace:\n",
    "            urls_reserva.append(url)\n",
    "            print(f'{marcador_visual}\\n{texto_enlace}: {url}\\n{marcador_visual}')\n",
    "for url in urls_reserva:\n",
    "    driver.get(url)  \n",
    "    time.sleep(1)"
   ]
  }
 ],
 "metadata": {
  "kernelspec": {
   "display_name": "Python 3",
   "language": "python",
   "name": "python3"
  },
  "language_info": {
   "codemirror_mode": {
    "name": "ipython",
    "version": 3
   },
   "file_extension": ".py",
   "mimetype": "text/x-python",
   "name": "python",
   "nbconvert_exporter": "python",
   "pygments_lexer": "ipython3",
   "version": "3.11.9"
  }
 },
 "nbformat": 4,
 "nbformat_minor": 2
}
